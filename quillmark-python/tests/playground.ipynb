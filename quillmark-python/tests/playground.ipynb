{
 "cells": [
  {
   "cell_type": "code",
   "execution_count": 2,
   "id": "a49abef1",
   "metadata": {},
   "outputs": [
    {
     "name": "stdout",
     "output_type": "stream",
     "text": [
      "{'$schema': 'https://json-schema.org/draft/2019-09/schema', 'additionalProperties': True, 'properties': {'attachments': {'description': 'Attachments (array)', 'name': 'attachments'}, 'cc': {'description': 'Carbon copy recipients (array)', 'name': 'cc'}, 'date': {'description': 'Date of memo (YYYY-MM-DD); defaults to today', 'name': 'date'}, 'distribution': {'description': 'Distribution list (array)', 'name': 'distribution'}, 'letterhead_caption': {'description': 'Caption in letterhead', 'name': 'letterhead_caption'}, 'letterhead_title': {'description': 'Title in letterhead', 'name': 'letterhead_title'}, 'memo_for': {'description': 'To whom the memo is addressed (multiline)', 'name': 'memo_for'}, 'memo_from': {'description': 'From whom the memo is sent (multiline)', 'name': 'memo_from'}, 'references': {'description': 'References for the memo (array)', 'name': 'references'}, 'signature_block': {'description': 'Signature block (multiline)', 'name': 'signature_block'}, 'subject': {'description': 'Subject of the memo', 'name': 'subject'}}, 'required': ['signature_block', 'subject', 'memo_for', 'memo_from'], 'type': 'object'}\n"
     ]
    }
   ],
   "source": [
    "from quillmark import Quillmark, Quill, ParsedDocument, OutputFormat\n",
    "\n",
    "# Create engine\n",
    "engine = Quillmark()\n",
    "\n",
    "# Load and register a quill\n",
    "quill = Quill.from_path(\"../../quillmark-fixtures/resources/usaf_memo\")\n",
    "engine.register_quill(quill)\n",
    "\n",
    "print(quill.schema)\n"
   ]
  },
  {
   "cell_type": "code",
   "execution_count": null,
   "id": "72ff1c15",
   "metadata": {},
   "outputs": [],
   "source": [
    "\n",
    "parsed = ParsedDocument.from_markdown(markdown)\n",
    "\n",
    "# Create workflow and render\n",
    "workflow = engine.workflow_from_parsed(parsed)  # Infers quill from QUILL tag\n",
    "result = workflow.render(parsed, OutputFormat.PDF)\n",
    "\n",
    "# Save output\n",
    "result.artifacts[0].save(\"output.pdf\")"
   ]
  },
  {
   "cell_type": "code",
   "execution_count": null,
   "id": "e74c0ba3",
   "metadata": {},
   "outputs": [],
   "source": []
  }
 ],
 "metadata": {
  "kernelspec": {
   "display_name": ".venv",
   "language": "python",
   "name": "python3"
  },
  "language_info": {
   "codemirror_mode": {
    "name": "ipython",
    "version": 3
   },
   "file_extension": ".py",
   "mimetype": "text/x-python",
   "name": "python",
   "nbconvert_exporter": "python",
   "pygments_lexer": "ipython3",
   "version": "3.14.0rc2"
  }
 },
 "nbformat": 4,
 "nbformat_minor": 5
}
